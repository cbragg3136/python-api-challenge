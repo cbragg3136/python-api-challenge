{
 "cells": [
  {
   "cell_type": "markdown",
   "metadata": {},
   "source": [
    "# WeatherPy\n",
    "----\n",
    "\n",
    "#### Note\n",
    "* Instructions have been included for each segment. You do not have to follow them exactly, but they are included to help you think through the steps."
   ]
  },
  {
   "cell_type": "code",
   "execution_count": 2,
   "metadata": {
    "scrolled": true
   },
   "outputs": [],
   "source": [
    "# Dependencies and Setup\n",
    "import matplotlib.pyplot as plt\n",
    "import pandas as pd\n",
    "import numpy as np\n",
    "import requests\n",
    "import time\n",
    "from scipy.stats import linregress\n",
    "\n",
    "# Import API key\n",
    "from api_keys import weather_api_key\n",
    "\n",
    "# Incorporated citipy to determine city based on latitude and longitude\n",
    "from citipy import citipy\n",
    "\n",
    "# Output File (CSV)\n",
    "output_data_file = \"output_data_CCB/cities.csv\"\n",
    "\n",
    "# Range of latitudes and longitudes\n",
    "lat_range = (-90, 90)\n",
    "lng_range = (-180, 180)\n",
    "\n"
   ]
  },
  {
   "cell_type": "markdown",
   "metadata": {},
   "source": [
    "## Generate Cities List"
   ]
  },
  {
   "cell_type": "code",
   "execution_count": 8,
   "metadata": {},
   "outputs": [
    {
     "data": {
      "text/plain": [
       "629"
      ]
     },
     "execution_count": 8,
     "metadata": {},
     "output_type": "execute_result"
    }
   ],
   "source": [
    "# List for holding lat_lngs and cities\n",
    "lat_lngs = []\n",
    "cities = []\n",
    "\n",
    "# Create a set of random lat and lng combinations\n",
    "lats = np.random.uniform(lat_range[0], lat_range[1], size=1500)\n",
    "lngs = np.random.uniform(lng_range[0], lng_range[1], size=1500)\n",
    "lat_lngs = zip(lats, lngs)\n",
    "\n",
    "# Identify nearest city for each lat, lng combination\n",
    "for lat_lng in lat_lngs:\n",
    "    city = citipy.nearest_city(lat_lng[0], lat_lng[1]).city_name\n",
    "    \n",
    "    # If the city is unique, then add it to a our cities list\n",
    "    if city not in cities:\n",
    "        cities.append(city)\n",
    "\n",
    "# Print the city count to confirm sufficient count\n",
    "len(cities)"
   ]
  },
  {
   "cell_type": "markdown",
   "metadata": {},
   "source": [
    "### Perform API Calls\n",
    "* Perform a weather check on each city using a series of successive API calls.\n",
    "* Include a print log of each city as it'sbeing processed (with the city number and city name).\n"
   ]
  },
  {
   "cell_type": "code",
   "execution_count": 5,
   "metadata": {
    "scrolled": true
   },
   "outputs": [
    {
     "name": "stdout",
     "output_type": "stream",
     "text": [
      "Beginning Data Retrieval\n",
      "------------------------\n",
      "Processing Record 1 of Set 1 | ahuimanu\n",
      "Processing Record 2 of Set 1 | hermanus\n",
      "Processing Record 3 of Set 1 | port alfred\n",
      "Processing Record 4 of Set 1 | jamestown\n",
      "Processing Record 5 of Set 1 | saskylakh\n",
      "Processing Record 6 of Set 1 | genhe\n",
      "City not found. Skipping...\n",
      "Processing Record 7 of Set 1 | evensk\n",
      "Processing Record 8 of Set 1 | elmvale\n",
      "Processing Record 9 of Set 1 | pio ix\n",
      "Processing Record 10 of Set 1 | butaritari\n",
      "Processing Record 11 of Set 1 | nosy varika\n",
      "Processing Record 12 of Set 1 | sitka\n",
      "Processing Record 13 of Set 1 | ushuaia\n",
      "City not found. Skipping...\n",
      "Processing Record 14 of Set 1 | longyearbyen\n",
      "Processing Record 15 of Set 1 | rawah\n",
      "Processing Record 16 of Set 1 | henties bay\n",
      "Processing Record 17 of Set 1 | rikitea\n",
      "Processing Record 18 of Set 1 | bathsheba\n",
      "Processing Record 19 of Set 1 | mar del plata\n",
      "Processing Record 20 of Set 1 | shambu\n",
      "Processing Record 21 of Set 1 | ilulissat\n",
      "Processing Record 22 of Set 1 | aleksandrovka\n",
      "Processing Record 23 of Set 1 | ozernovskiy\n",
      "Processing Record 24 of Set 1 | victoria\n",
      "Processing Record 25 of Set 1 | mataura\n",
      "Processing Record 26 of Set 1 | los llanos de aridane\n",
      "Processing Record 27 of Set 1 | san luis\n",
      "Processing Record 28 of Set 1 | avarua\n",
      "Processing Record 29 of Set 1 | bilibino\n",
      "Processing Record 30 of Set 1 | sokolo\n",
      "Processing Record 31 of Set 1 | busselton\n",
      "Processing Record 32 of Set 1 | bredasdorp\n",
      "Processing Record 33 of Set 1 | atar\n",
      "Processing Record 34 of Set 1 | broken hill\n",
      "City not found. Skipping...\n",
      "City not found. Skipping...\n",
      "Processing Record 35 of Set 1 | new norfolk\n",
      "Processing Record 36 of Set 1 | lavumisa\n",
      "Processing Record 37 of Set 1 | luderitz\n",
      "Processing Record 38 of Set 1 | tasiilaq\n",
      "Processing Record 39 of Set 1 | bluff\n",
      "Processing Record 40 of Set 1 | labuhan\n",
      "Processing Record 41 of Set 1 | tuatapere\n",
      "Processing Record 42 of Set 1 | lavrentiya\n",
      "Processing Record 43 of Set 1 | colesberg\n",
      "Processing Record 44 of Set 1 | punta arenas\n",
      "Processing Record 45 of Set 1 | leningradskiy\n",
      "Processing Record 46 of Set 1 | nikolskoye\n",
      "Processing Record 47 of Set 1 | ondjiva\n",
      "Processing Record 48 of Set 1 | atherton\n",
      "City not found. Skipping...\n",
      "Processing Record 49 of Set 1 | winkler\n",
      "Processing Record 1 of Set 2 | komsomolskiy\n",
      "Processing Record 2 of Set 2 | clyde river\n",
      "Processing Record 3 of Set 2 | vila velha\n",
      "City not found. Skipping...\n",
      "City not found. Skipping...\n",
      "Processing Record 4 of Set 2 | iqaluit\n",
      "Processing Record 5 of Set 2 | barrow\n",
      "Processing Record 6 of Set 2 | ancud\n",
      "Processing Record 7 of Set 2 | annau\n",
      "Processing Record 8 of Set 2 | itarema\n",
      "Processing Record 9 of Set 2 | ribeira grande\n",
      "Processing Record 10 of Set 2 | puerto ayora\n",
      "Processing Record 11 of Set 2 | gravdal\n",
      "Processing Record 12 of Set 2 | saint george\n",
      "Processing Record 13 of Set 2 | naze\n",
      "Processing Record 14 of Set 2 | mehamn\n",
      "Processing Record 15 of Set 2 | sistranda\n",
      "Processing Record 16 of Set 2 | port elizabeth\n",
      "Processing Record 17 of Set 2 | georgetown\n",
      "Processing Record 18 of Set 2 | hasaki\n",
      "Processing Record 19 of Set 2 | east london\n",
      "Processing Record 20 of Set 2 | acapulco\n",
      "City not found. Skipping...\n",
      "Processing Record 21 of Set 2 | hithadhoo\n",
      "Processing Record 22 of Set 2 | santa fe\n",
      "Processing Record 23 of Set 2 | rreshen\n",
      "Processing Record 24 of Set 2 | mahebourg\n",
      "Processing Record 25 of Set 2 | qaanaaq\n",
      "City not found. Skipping...\n",
      "Processing Record 26 of Set 2 | havre-saint-pierre\n",
      "Processing Record 27 of Set 2 | kahului\n",
      "Processing Record 28 of Set 2 | vaini\n",
      "Processing Record 29 of Set 2 | batagay\n",
      "Processing Record 30 of Set 2 | hambantota\n",
      "Processing Record 31 of Set 2 | albany\n",
      "Processing Record 32 of Set 2 | marsabit\n",
      "Processing Record 33 of Set 2 | castro\n",
      "Processing Record 34 of Set 2 | hilo\n",
      "Processing Record 35 of Set 2 | nuuk\n",
      "Processing Record 36 of Set 2 | kodiak\n",
      "Processing Record 37 of Set 2 | do gonbadan\n",
      "Processing Record 38 of Set 2 | kidal\n",
      "Processing Record 39 of Set 2 | nyurba\n",
      "Processing Record 40 of Set 2 | murgab\n",
      "Processing Record 41 of Set 2 | bethel\n",
      "Processing Record 42 of Set 2 | castelnaudary\n",
      "Processing Record 43 of Set 2 | port moresby\n",
      "Processing Record 44 of Set 2 | guerrero negro\n",
      "City not found. Skipping...\n",
      "Processing Record 45 of Set 2 | ambilobe\n",
      "Processing Record 46 of Set 2 | vardo\n",
      "Processing Record 47 of Set 2 | turbat\n",
      "Processing Record 48 of Set 2 | thompson\n",
      "Processing Record 49 of Set 2 | atuona\n",
      "Processing Record 1 of Set 3 | touros\n",
      "Processing Record 2 of Set 3 | olden\n",
      "Processing Record 3 of Set 3 | sidney\n",
      "Processing Record 4 of Set 3 | great bend\n",
      "Processing Record 5 of Set 3 | loreto\n",
      "Processing Record 6 of Set 3 | saint-philippe\n",
      "Processing Record 7 of Set 3 | flinders\n",
      "Processing Record 8 of Set 3 | holly springs\n",
      "Processing Record 9 of Set 3 | cape town\n",
      "City not found. Skipping...\n",
      "Processing Record 10 of Set 3 | qingdao\n",
      "Processing Record 11 of Set 3 | salo\n",
      "Processing Record 12 of Set 3 | tumpat\n",
      "Processing Record 13 of Set 3 | saint-pierre\n",
      "Processing Record 14 of Set 3 | kapaa\n",
      "Processing Record 15 of Set 3 | deer lake\n",
      "Processing Record 16 of Set 3 | bambous virieux\n",
      "Processing Record 17 of Set 3 | saldanha\n",
      "Processing Record 18 of Set 3 | baykit\n",
      "Processing Record 19 of Set 3 | kaitangata\n",
      "Processing Record 20 of Set 3 | provideniya\n",
      "Processing Record 21 of Set 3 | natal\n",
      "Processing Record 22 of Set 3 | mahanje\n",
      "Processing Record 23 of Set 3 | bengkulu\n",
      "Processing Record 24 of Set 3 | mayumba\n",
      "Processing Record 25 of Set 3 | chokurdakh\n",
      "Processing Record 26 of Set 3 | manglisi\n",
      "Processing Record 27 of Set 3 | comodoro rivadavia\n",
      "Processing Record 28 of Set 3 | brindisi\n",
      "Processing Record 29 of Set 3 | avera\n",
      "City not found. Skipping...\n",
      "City not found. Skipping...\n",
      "Processing Record 30 of Set 3 | maumere\n",
      "Processing Record 31 of Set 3 | souillac\n",
      "Processing Record 32 of Set 3 | torbay\n",
      "City not found. Skipping...\n",
      "Processing Record 33 of Set 3 | laguna\n",
      "Processing Record 34 of Set 3 | carnarvon\n",
      "Processing Record 35 of Set 3 | nome\n",
      "Processing Record 36 of Set 3 | beringovskiy\n",
      "City not found. Skipping...\n",
      "Processing Record 37 of Set 3 | rancho palos verdes\n",
      "Processing Record 38 of Set 3 | srikakulam\n",
      "Processing Record 39 of Set 3 | simao\n",
      "City not found. Skipping...\n",
      "Processing Record 40 of Set 3 | agbor\n",
      "Processing Record 41 of Set 3 | bousse\n",
      "Processing Record 42 of Set 3 | reconquista\n",
      "Processing Record 43 of Set 3 | cabo san lucas\n",
      "Processing Record 44 of Set 3 | norman wells\n",
      "Processing Record 45 of Set 3 | guaruja\n",
      "Processing Record 46 of Set 3 | blairmore\n",
      "Processing Record 47 of Set 3 | pimenta bueno\n",
      "Processing Record 48 of Set 3 | panama city\n",
      "Processing Record 49 of Set 3 | bryant\n",
      "Processing Record 1 of Set 4 | rio tercero\n",
      "Processing Record 2 of Set 4 | kachiry\n",
      "City not found. Skipping...\n",
      "Processing Record 3 of Set 4 | devils lake\n",
      "Processing Record 4 of Set 4 | quatre cocos\n",
      "Processing Record 5 of Set 4 | dingle\n",
      "Processing Record 6 of Set 4 | yellowknife\n",
      "Processing Record 7 of Set 4 | dubti\n",
      "Processing Record 8 of Set 4 | ossora\n",
      "Processing Record 9 of Set 4 | egvekinot\n",
      "Processing Record 10 of Set 4 | pevek\n",
      "Processing Record 11 of Set 4 | port-cartier\n",
      "Processing Record 12 of Set 4 | lakatoro\n",
      "City not found. Skipping...\n",
      "Processing Record 13 of Set 4 | gamba\n",
      "Processing Record 14 of Set 4 | eyl\n",
      "Processing Record 15 of Set 4 | dikson\n",
      "Processing Record 16 of Set 4 | padang\n",
      "City not found. Skipping...\n",
      "Processing Record 17 of Set 4 | esperance\n",
      "Processing Record 18 of Set 4 | kaohsiung\n",
      "Processing Record 19 of Set 4 | zabaykalsk\n",
      "Processing Record 20 of Set 4 | senftenberg\n",
      "Processing Record 21 of Set 4 | marsh harbour\n",
      "Processing Record 22 of Set 4 | kilakarai\n",
      "Processing Record 23 of Set 4 | mogadishu\n",
      "City not found. Skipping...\n",
      "Processing Record 24 of Set 4 | kamenka\n",
      "Processing Record 25 of Set 4 | khandyga\n",
      "Processing Record 26 of Set 4 | les cayes\n",
      "Processing Record 27 of Set 4 | milkovo\n",
      "Processing Record 28 of Set 4 | broome\n",
      "City not found. Skipping...\n",
      "Processing Record 29 of Set 4 | muros\n",
      "Processing Record 30 of Set 4 | poykovskiy\n",
      "Processing Record 31 of Set 4 | tuktoyaktuk\n",
      "Processing Record 32 of Set 4 | adrar\n",
      "Processing Record 33 of Set 4 | kurumkan\n",
      "Processing Record 34 of Set 4 | guanica\n",
      "Processing Record 35 of Set 4 | richards bay\n",
      "Processing Record 36 of Set 4 | havelock\n"
     ]
    },
    {
     "name": "stdout",
     "output_type": "stream",
     "text": [
      "Processing Record 37 of Set 4 | sisimiut\n",
      "Processing Record 38 of Set 4 | banda aceh\n",
      "Processing Record 39 of Set 4 | labuan\n",
      "Processing Record 40 of Set 4 | wajir\n",
      "Processing Record 41 of Set 4 | northam\n",
      "Processing Record 42 of Set 4 | cuauhtemoc\n",
      "Processing Record 43 of Set 4 | biltine\n",
      "Processing Record 44 of Set 4 | hervey bay\n",
      "Processing Record 45 of Set 4 | asfi\n",
      "Processing Record 46 of Set 4 | kununurra\n",
      "City not found. Skipping...\n",
      "Processing Record 47 of Set 4 | arraial do cabo\n",
      "Processing Record 48 of Set 4 | isangel\n",
      "Processing Record 49 of Set 4 | bairiki\n",
      "Processing Record 1 of Set 5 | roma\n",
      "Processing Record 2 of Set 5 | makakilo city\n",
      "Processing Record 3 of Set 5 | upernavik\n",
      "Processing Record 4 of Set 5 | west bay\n",
      "Processing Record 5 of Set 5 | betioky\n",
      "Processing Record 6 of Set 5 | pangai\n",
      "Processing Record 7 of Set 5 | faya\n",
      "City not found. Skipping...\n",
      "Processing Record 8 of Set 5 | hovd\n",
      "Processing Record 9 of Set 5 | codrington\n",
      "Processing Record 10 of Set 5 | kruisfontein\n",
      "Processing Record 11 of Set 5 | port macquarie\n",
      "Processing Record 12 of Set 5 | honningsvag\n",
      "Processing Record 13 of Set 5 | anito\n",
      "Processing Record 14 of Set 5 | svetlogorsk\n",
      "Processing Record 15 of Set 5 | khatanga\n",
      "Processing Record 16 of Set 5 | manacor\n",
      "Processing Record 17 of Set 5 | lata\n",
      "Processing Record 18 of Set 5 | harrison\n",
      "Processing Record 19 of Set 5 | caravelas\n",
      "Processing Record 20 of Set 5 | plettenberg bay\n",
      "Processing Record 21 of Set 5 | jinchang\n",
      "City not found. Skipping...\n",
      "Processing Record 22 of Set 5 | nanortalik\n",
      "Processing Record 23 of Set 5 | mahanoro\n",
      "Processing Record 24 of Set 5 | alice springs\n",
      "Processing Record 25 of Set 5 | cap-aux-meules\n",
      "Processing Record 26 of Set 5 | ocos\n",
      "Processing Record 27 of Set 5 | kiama\n",
      "Processing Record 28 of Set 5 | zhigansk\n",
      "Processing Record 29 of Set 5 | amarpur\n",
      "Processing Record 30 of Set 5 | kristiinankaupunki\n",
      "Processing Record 31 of Set 5 | kennett\n",
      "Processing Record 32 of Set 5 | puerto escondido\n",
      "Processing Record 33 of Set 5 | hobart\n",
      "Processing Record 34 of Set 5 | lucea\n",
      "Processing Record 35 of Set 5 | brest\n",
      "Processing Record 36 of Set 5 | taltal\n",
      "Processing Record 37 of Set 5 | panaba\n",
      "Processing Record 38 of Set 5 | launceston\n",
      "City not found. Skipping...\n",
      "Processing Record 39 of Set 5 | northallerton\n",
      "Processing Record 40 of Set 5 | cap malheureux\n",
      "Processing Record 41 of Set 5 | liepaja\n",
      "Processing Record 42 of Set 5 | oktyabrskoye\n",
      "Processing Record 43 of Set 5 | katsuura\n",
      "City not found. Skipping...\n",
      "Processing Record 44 of Set 5 | airai\n",
      "Processing Record 45 of Set 5 | severo-kurilsk\n",
      "Processing Record 46 of Set 5 | urusha\n",
      "Processing Record 47 of Set 5 | geraldton\n",
      "Processing Record 48 of Set 5 | barrhead\n",
      "Processing Record 49 of Set 5 | kroya\n",
      "Processing Record 1 of Set 6 | grindavik\n",
      "Processing Record 2 of Set 6 | graaff-reinet\n",
      "Processing Record 3 of Set 6 | tyrma\n",
      "City not found. Skipping...\n",
      "City not found. Skipping...\n",
      "Processing Record 4 of Set 6 | le port\n",
      "Processing Record 5 of Set 6 | coos bay\n",
      "Processing Record 6 of Set 6 | ogaminana\n",
      "Processing Record 7 of Set 6 | merauke\n",
      "Processing Record 8 of Set 6 | wuzhou\n",
      "Processing Record 9 of Set 6 | salalah\n",
      "Processing Record 10 of Set 6 | kindu\n",
      "Processing Record 11 of Set 6 | agua buena\n",
      "Processing Record 12 of Set 6 | vila franca do campo\n",
      "Processing Record 13 of Set 6 | kjollefjord\n",
      "Processing Record 14 of Set 6 | oda\n",
      "Processing Record 15 of Set 6 | bubaque\n",
      "Processing Record 16 of Set 6 | rafai\n",
      "Processing Record 17 of Set 6 | poum\n",
      "Processing Record 18 of Set 6 | pisco\n",
      "Processing Record 19 of Set 6 | ishigaki\n",
      "Processing Record 20 of Set 6 | fort nelson\n",
      "Processing Record 21 of Set 6 | patacamaya\n",
      "Processing Record 22 of Set 6 | ahipara\n",
      "Processing Record 23 of Set 6 | jalu\n",
      "Processing Record 24 of Set 6 | chicama\n",
      "Processing Record 25 of Set 6 | turukhansk\n",
      "Processing Record 26 of Set 6 | dawson creek\n",
      "Processing Record 27 of Set 6 | lazaro cardenas\n",
      "City not found. Skipping...\n",
      "Processing Record 28 of Set 6 | mount isa\n",
      "Processing Record 29 of Set 6 | deputatskiy\n",
      "Processing Record 30 of Set 6 | dakar\n",
      "Processing Record 31 of Set 6 | maceio\n",
      "Processing Record 32 of Set 6 | kermanshah\n",
      "Processing Record 33 of Set 6 | opuwo\n",
      "Processing Record 34 of Set 6 | masterton\n",
      "Processing Record 35 of Set 6 | coquimbo\n",
      "Processing Record 36 of Set 6 | sukumo\n",
      "Processing Record 37 of Set 6 | kedrovyy\n",
      "Processing Record 38 of Set 6 | fergus falls\n",
      "Processing Record 39 of Set 6 | hami\n",
      "Processing Record 40 of Set 6 | sembakung\n",
      "Processing Record 41 of Set 6 | hofn\n",
      "Processing Record 42 of Set 6 | pirovskoye\n",
      "Processing Record 43 of Set 6 | albury\n",
      "Processing Record 44 of Set 6 | chuy\n",
      "Processing Record 45 of Set 6 | payo\n",
      "Processing Record 46 of Set 6 | merrill\n",
      "Processing Record 47 of Set 6 | portadown\n",
      "Processing Record 48 of Set 6 | laredo\n",
      "Processing Record 49 of Set 6 | lorengau\n",
      "Processing Record 1 of Set 7 | gwadar\n",
      "Processing Record 2 of Set 7 | safaga\n",
      "Processing Record 3 of Set 7 | muriti\n",
      "Processing Record 4 of Set 7 | gizo\n",
      "Processing Record 5 of Set 7 | longonjo\n",
      "Processing Record 6 of Set 7 | vostok\n",
      "Processing Record 7 of Set 7 | kalmunai\n",
      "Processing Record 8 of Set 7 | vestmanna\n",
      "Processing Record 9 of Set 7 | anadyr\n",
      "Processing Record 10 of Set 7 | porto novo\n",
      "Processing Record 11 of Set 7 | kasongo-lunda\n",
      "Processing Record 12 of Set 7 | casper\n",
      "Processing Record 13 of Set 7 | hwange\n",
      "Processing Record 14 of Set 7 | synya\n",
      "Processing Record 15 of Set 7 | tiksi\n",
      "Processing Record 16 of Set 7 | hobyo\n",
      "Processing Record 17 of Set 7 | san cristobal\n",
      "Processing Record 18 of Set 7 | sangar\n",
      "Processing Record 19 of Set 7 | nchelenge\n",
      "Processing Record 20 of Set 7 | margate\n",
      "Processing Record 21 of Set 7 | narsaq\n",
      "Processing Record 22 of Set 7 | bandarbeyla\n",
      "Processing Record 23 of Set 7 | te anau\n",
      "Processing Record 24 of Set 7 | half moon bay\n",
      "Processing Record 25 of Set 7 | miguel hidalgo\n",
      "Processing Record 26 of Set 7 | cherskiy\n",
      "Processing Record 27 of Set 7 | amantea\n",
      "Processing Record 28 of Set 7 | chama\n",
      "Processing Record 29 of Set 7 | jermuk\n",
      "Processing Record 30 of Set 7 | necochea\n",
      "Processing Record 31 of Set 7 | quelimane\n",
      "Processing Record 32 of Set 7 | kavieng\n",
      "Processing Record 33 of Set 7 | topeka\n",
      "Processing Record 34 of Set 7 | peris\n",
      "Processing Record 35 of Set 7 | portland\n",
      "Processing Record 36 of Set 7 | escarcega\n",
      "Processing Record 37 of Set 7 | kargasok\n",
      "City not found. Skipping...\n",
      "Processing Record 38 of Set 7 | smidovich\n",
      "Processing Record 39 of Set 7 | aklavik\n",
      "Processing Record 40 of Set 7 | katsina\n",
      "Processing Record 41 of Set 7 | sao joao da barra\n",
      "Processing Record 42 of Set 7 | kefalos\n",
      "Processing Record 43 of Set 7 | ibiruba\n",
      "Processing Record 44 of Set 7 | zhob\n",
      "Processing Record 45 of Set 7 | yumbel\n",
      "Processing Record 46 of Set 7 | san jose\n",
      "Processing Record 47 of Set 7 | ustka\n",
      "Processing Record 48 of Set 7 | coahuayana\n",
      "Processing Record 49 of Set 7 | yar-sale\n",
      "Processing Record 1 of Set 8 | foz do iguacu\n",
      "Processing Record 2 of Set 8 | olinda\n",
      "Processing Record 3 of Set 8 | restrepo\n",
      "Processing Record 4 of Set 8 | xuddur\n",
      "Processing Record 5 of Set 8 | iquitos\n",
      "Processing Record 6 of Set 8 | arman\n",
      "Processing Record 7 of Set 8 | uyuni\n",
      "Processing Record 8 of Set 8 | fortuna\n",
      "Processing Record 9 of Set 8 | buala\n",
      "Processing Record 10 of Set 8 | namatanai\n",
      "Processing Record 11 of Set 8 | xining\n",
      "Processing Record 12 of Set 8 | griffith\n",
      "Processing Record 13 of Set 8 | telixtac\n",
      "Processing Record 14 of Set 8 | simbahan\n",
      "Processing Record 15 of Set 8 | noyabrsk\n",
      "Processing Record 16 of Set 8 | tongzi\n",
      "Processing Record 17 of Set 8 | dunedin\n",
      "Processing Record 18 of Set 8 | ati\n",
      "Processing Record 19 of Set 8 | zinder\n",
      "Processing Record 20 of Set 8 | dalnerechensk\n",
      "Processing Record 21 of Set 8 | yulara\n",
      "Processing Record 22 of Set 8 | izumo\n",
      "Processing Record 23 of Set 8 | qaqortoq\n",
      "Processing Record 24 of Set 8 | lebu\n",
      "Processing Record 25 of Set 8 | bergerac\n",
      "Processing Record 26 of Set 8 | uvinza\n",
      "City not found. Skipping...\n",
      "Processing Record 27 of Set 8 | ulaangom\n",
      "Processing Record 28 of Set 8 | oud-beijerland\n",
      "Processing Record 29 of Set 8 | warrnambool\n",
      "Processing Record 30 of Set 8 | ouidah\n",
      "Processing Record 31 of Set 8 | morondava\n",
      "Processing Record 32 of Set 8 | feicheng\n",
      "City not found. Skipping...\n",
      "Processing Record 33 of Set 8 | faanui\n",
      "Processing Record 34 of Set 8 | lompoc\n"
     ]
    },
    {
     "name": "stdout",
     "output_type": "stream",
     "text": [
      "City not found. Skipping...\n",
      "Processing Record 35 of Set 8 | puerto rico\n",
      "Processing Record 36 of Set 8 | college\n",
      "Processing Record 37 of Set 8 | turan\n",
      "Processing Record 38 of Set 8 | ponta delgada\n",
      "Processing Record 39 of Set 8 | uruguaiana\n",
      "Processing Record 40 of Set 8 | marsa matruh\n",
      "Processing Record 41 of Set 8 | odweyne\n",
      "Processing Record 42 of Set 8 | namibe\n",
      "Processing Record 43 of Set 8 | alofi\n",
      "Processing Record 44 of Set 8 | novobataysk\n",
      "Processing Record 45 of Set 8 | olavarria\n",
      "City not found. Skipping...\n",
      "Processing Record 46 of Set 8 | romitan\n",
      "City not found. Skipping...\n",
      "Processing Record 47 of Set 8 | udomlya\n",
      "Processing Record 48 of Set 8 | arriaga\n",
      "Processing Record 49 of Set 8 | pangnirtung\n",
      "Processing Record 1 of Set 9 | berdigestyakh\n",
      "Processing Record 2 of Set 9 | ketchikan\n",
      "City not found. Skipping...\n",
      "Processing Record 3 of Set 9 | okha\n",
      "Processing Record 4 of Set 9 | lekoni\n",
      "Processing Record 5 of Set 9 | dubna\n",
      "Processing Record 6 of Set 9 | dandong\n",
      "Processing Record 7 of Set 9 | klaksvik\n",
      "Processing Record 8 of Set 9 | belgrade\n",
      "Processing Record 9 of Set 9 | isoka\n",
      "Processing Record 10 of Set 9 | ouadda\n",
      "Processing Record 11 of Set 9 | racine\n",
      "Processing Record 12 of Set 9 | jaque\n",
      "Processing Record 13 of Set 9 | bad iburg\n",
      "Processing Record 14 of Set 9 | usinsk\n",
      "Processing Record 15 of Set 9 | aojiang\n",
      "Processing Record 16 of Set 9 | alta gracia\n",
      "Processing Record 17 of Set 9 | abu samrah\n",
      "Processing Record 18 of Set 9 | maturin\n",
      "City not found. Skipping...\n",
      "Processing Record 19 of Set 9 | impfondo\n",
      "Processing Record 20 of Set 9 | port blair\n",
      "Processing Record 21 of Set 9 | sao domingos\n",
      "Processing Record 22 of Set 9 | chardara\n",
      "Processing Record 23 of Set 9 | marrakesh\n",
      "Processing Record 24 of Set 9 | totskoye\n",
      "Processing Record 25 of Set 9 | karratha\n",
      "Processing Record 26 of Set 9 | pierre\n",
      "Processing Record 27 of Set 9 | baltiysk\n",
      "Processing Record 28 of Set 9 | cuamba\n",
      "Processing Record 29 of Set 9 | puerto madero\n",
      "Processing Record 30 of Set 9 | ocampo\n",
      "Processing Record 31 of Set 9 | shelburne\n",
      "Processing Record 32 of Set 9 | swindon\n",
      "Processing Record 33 of Set 9 | berlevag\n",
      "Processing Record 34 of Set 9 | chiang rai\n",
      "City not found. Skipping...\n",
      "Processing Record 35 of Set 9 | luau\n",
      "Processing Record 36 of Set 9 | siwana\n",
      "Processing Record 37 of Set 9 | burnie\n",
      "Processing Record 38 of Set 9 | haines junction\n",
      "City not found. Skipping...\n",
      "Processing Record 39 of Set 9 | san patricio\n",
      "Processing Record 40 of Set 9 | kez\n",
      "Processing Record 41 of Set 9 | manching\n",
      "Processing Record 42 of Set 9 | saint-augustin\n",
      "City not found. Skipping...\n",
      "Processing Record 43 of Set 9 | ostrovnoy\n",
      "Processing Record 44 of Set 9 | linfen\n",
      "Processing Record 45 of Set 9 | cidreira\n",
      "Processing Record 46 of Set 9 | koungheul\n",
      "Processing Record 47 of Set 9 | high level\n",
      "Processing Record 48 of Set 9 | joensuu\n",
      "City not found. Skipping...\n",
      "City not found. Skipping...\n",
      "Processing Record 49 of Set 9 | bam\n",
      "Processing Record 1 of Set 10 | moroto\n",
      "Processing Record 2 of Set 10 | kutum\n",
      "Processing Record 3 of Set 10 | mount gambier\n",
      "Processing Record 4 of Set 10 | huarmey\n",
      "Processing Record 5 of Set 10 | lockhart\n",
      "Processing Record 6 of Set 10 | manaus\n",
      "Processing Record 7 of Set 10 | cameta\n",
      "Processing Record 8 of Set 10 | aripuana\n",
      "Processing Record 9 of Set 10 | porbandar\n",
      "Processing Record 10 of Set 10 | mackenzie\n",
      "Processing Record 11 of Set 10 | tadpatri\n",
      "Processing Record 12 of Set 10 | biak\n",
      "Processing Record 13 of Set 10 | susurluk\n",
      "Processing Record 14 of Set 10 | osterburg\n",
      "Processing Record 15 of Set 10 | ayni\n",
      "City not found. Skipping...\n",
      "Processing Record 16 of Set 10 | sept-iles\n",
      "Processing Record 17 of Set 10 | liseleje\n",
      "Processing Record 18 of Set 10 | asau\n",
      "Processing Record 19 of Set 10 | bud\n",
      "Processing Record 20 of Set 10 | nishihara\n",
      "Processing Record 21 of Set 10 | paracuru\n",
      "Processing Record 22 of Set 10 | tari\n",
      "Processing Record 23 of Set 10 | constitucion\n",
      "Processing Record 24 of Set 10 | chumikan\n",
      "Processing Record 25 of Set 10 | kavaratti\n",
      "Processing Record 26 of Set 10 | albanel\n",
      "City not found. Skipping...\n",
      "Processing Record 27 of Set 10 | tura\n",
      "Processing Record 28 of Set 10 | midland\n",
      "Processing Record 29 of Set 10 | mount pleasant\n",
      "Processing Record 30 of Set 10 | aden\n",
      "Processing Record 31 of Set 10 | elizabeth city\n",
      "Processing Record 32 of Set 10 | sungaipenuh\n",
      "Processing Record 33 of Set 10 | lososina\n",
      "Processing Record 34 of Set 10 | el ejido\n",
      "Processing Record 35 of Set 10 | coihaique\n",
      "Processing Record 36 of Set 10 | dalvik\n",
      "Processing Record 37 of Set 10 | yerbogachen\n",
      "Processing Record 38 of Set 10 | semme\n",
      "Processing Record 39 of Set 10 | llangefni\n",
      "Processing Record 40 of Set 10 | ginir\n",
      "Processing Record 41 of Set 10 | kupang\n",
      "Processing Record 42 of Set 10 | leh\n",
      "Processing Record 43 of Set 10 | nouadhibou\n",
      "City not found. Skipping...\n",
      "Processing Record 44 of Set 10 | dongkan\n",
      "Processing Record 45 of Set 10 | anaconda\n",
      "Processing Record 46 of Set 10 | miranda\n",
      "Processing Record 47 of Set 10 | kaka\n",
      "Processing Record 48 of Set 10 | tomigusuku\n",
      "Processing Record 49 of Set 10 | batesville\n",
      "Processing Record 1 of Set 11 | castelo do piaui\n",
      "Processing Record 2 of Set 11 | maiduguri\n",
      "Processing Record 3 of Set 11 | amalapuram\n",
      "Processing Record 4 of Set 11 | nenjiang\n",
      "City not found. Skipping...\n",
      "Processing Record 5 of Set 11 | port-gentil\n",
      "Processing Record 6 of Set 11 | marienburg\n",
      "City not found. Skipping...\n",
      "Processing Record 7 of Set 11 | la rioja\n",
      "Processing Record 8 of Set 11 | manzhouli\n",
      "Processing Record 9 of Set 11 | shenjiamen\n",
      "Processing Record 10 of Set 11 | ahtopol\n",
      "Processing Record 11 of Set 11 | qasigiannguit\n",
      "Processing Record 12 of Set 11 | pathein\n",
      "Processing Record 13 of Set 11 | aguimes\n",
      "Processing Record 14 of Set 11 | iwanai\n",
      "Processing Record 15 of Set 11 | riviere-au-renard\n",
      "Processing Record 16 of Set 11 | walvis bay\n",
      "Processing Record 17 of Set 11 | piacabucu\n",
      "Processing Record 18 of Set 11 | esperanza\n",
      "Processing Record 19 of Set 11 | krasnoselkup\n",
      "Processing Record 20 of Set 11 | fare\n",
      "Processing Record 21 of Set 11 | belaya gora\n",
      "Processing Record 22 of Set 11 | mahajanga\n",
      "Processing Record 23 of Set 11 | beloha\n",
      "Processing Record 24 of Set 11 | belyy yar\n",
      "Processing Record 25 of Set 11 | zhuhai\n",
      "Processing Record 26 of Set 11 | khingansk\n",
      "Processing Record 27 of Set 11 | takoradi\n",
      "Processing Record 28 of Set 11 | benguela\n",
      "Processing Record 29 of Set 11 | batemans bay\n",
      "Processing Record 30 of Set 11 | macusani\n",
      "Processing Record 31 of Set 11 | kapoeta\n",
      "Processing Record 32 of Set 11 | tecoanapa\n",
      "Processing Record 33 of Set 11 | woodstock\n",
      "Processing Record 34 of Set 11 | tandahimba\n",
      "Processing Record 35 of Set 11 | wagar\n",
      "Processing Record 36 of Set 11 | pahrump\n",
      "Processing Record 37 of Set 11 | lasa\n",
      "Processing Record 38 of Set 11 | dolinsk\n",
      "City not found. Skipping...\n",
      "Processing Record 39 of Set 11 | agua dulce\n",
      "Processing Record 40 of Set 11 | ulkan\n",
      "Processing Record 41 of Set 11 | liloy\n",
      "Processing Record 42 of Set 11 | talnakh\n",
      "Processing Record 43 of Set 11 | roald\n",
      "Processing Record 44 of Set 11 | huaidian\n",
      "Processing Record 45 of Set 11 | claresholm\n",
      "Processing Record 46 of Set 11 | tra vinh\n",
      "------------------------\n",
      "Data Retrieval Complete\n",
      "------------------------\n"
     ]
    }
   ],
   "source": [
    "# Build the endpoint URL\n",
    "base_url = \"http://api.openweathermap.org/data/2.5/weather?appid=\"\n",
    "units = 'imperial'\n",
    "city_url = base_url + weather_api_key + '&units=' + units + '&q='\n",
    "\n",
    "print('Beginning Data Retrieval')\n",
    "print('------------------------')\n",
    "\n",
    "# set up lists to hold reponse info\n",
    "city_name = []\n",
    "cloudiness = []\n",
    "country = []\n",
    "date = []\n",
    "humidity = []\n",
    "lat = []\n",
    "lng = []\n",
    "max_temp = []\n",
    "wind_speed = []\n",
    "city_counter = 0\n",
    "set_counter = 1\n",
    "\n",
    "# Loop through the list of cities and perform a request for data on each\n",
    "for city in cities:  \n",
    "    query = city_url + city\n",
    "    data = requests.get(query).json()\n",
    "\n",
    "    # Try to grab the weather data if available in the openweathermap API\n",
    "    try:\n",
    "        city_name.append(data['name'])\n",
    "        cloudiness.append(data['clouds']['all'])\n",
    "        country.append(data['sys']['country'])\n",
    "        date.append(data['dt'])\n",
    "        humidity.append(data['main']['humidity'])\n",
    "        lat.append(data['coord']['lat'])\n",
    "        lng.append(data['coord']['lon'])\n",
    "        max_temp.append(data['main']['temp_max'])\n",
    "        wind_speed.append(data['wind']['speed'])\n",
    "       \n",
    "        #If-else to designate a Set as being 49 cities\n",
    "        if city_counter >= 49:\n",
    "            city_counter = 1\n",
    "            set_counter = set_counter + 1\n",
    "        else:\n",
    "            city_counter = city_counter + 1\n",
    "            \n",
    "        print(f'Processing Record {city_counter} of Set {set_counter} | {city}')\n",
    "        \n",
    "        time.sleep(1)\n",
    "    \n",
    "    # Handle exceptions for a city that is not available in the openweathermap API   \n",
    "    except:\n",
    "        print('City not found. Skipping...')\n",
    "        \n",
    "print(f'------------------------')\n",
    "print(f'Data Retrieval Complete')\n",
    "print(f'------------------------')"
   ]
  },
  {
   "cell_type": "markdown",
   "metadata": {},
   "source": [
    "### Convert Raw Data to DataFrame\n",
    "* Export the city data into a .csv.\n",
    "* Display the DataFrame"
   ]
  },
  {
   "cell_type": "code",
   "execution_count": null,
   "metadata": {},
   "outputs": [],
   "source": [
    "# Create DataFrame\n",
    "weather_dict = {\n",
    "    \"City\": city_name,\n",
    "    \"Lat\": lat,\n",
    "    \"Lng\": lng,\n",
    "    \"Max Temp\": max_temp,\n",
    "    \"Humidity\": humidity,\n",
    "    \"Cloudiness\": cloudiness,\n",
    "    \"Wind Speed\": wind_speed,\n",
    "    \"Country\": country,\n",
    "    \"Date\": date\n",
    "}\n",
    "weather_data = pd.DataFrame(weather_dict)\n",
    "\n",
    "# Export dataframe to CSV\n",
    "weather_data.to_csv(output_data_file)"
   ]
  },
  {
   "cell_type": "code",
   "execution_count": 119,
   "metadata": {},
   "outputs": [
    {
     "data": {
      "text/html": [
       "<div>\n",
       "<style scoped>\n",
       "    .dataframe tbody tr th:only-of-type {\n",
       "        vertical-align: middle;\n",
       "    }\n",
       "\n",
       "    .dataframe tbody tr th {\n",
       "        vertical-align: top;\n",
       "    }\n",
       "\n",
       "    .dataframe thead th {\n",
       "        text-align: right;\n",
       "    }\n",
       "</style>\n",
       "<table border=\"1\" class=\"dataframe\">\n",
       "  <thead>\n",
       "    <tr style=\"text-align: right;\">\n",
       "      <th></th>\n",
       "      <th>City</th>\n",
       "      <th>Lat</th>\n",
       "      <th>Lng</th>\n",
       "      <th>Max Temp</th>\n",
       "      <th>Humidity</th>\n",
       "      <th>Cloudiness</th>\n",
       "      <th>Wind Speed</th>\n",
       "      <th>Country</th>\n",
       "      <th>Date</th>\n",
       "    </tr>\n",
       "  </thead>\n",
       "  <tbody>\n",
       "    <tr>\n",
       "      <th>0</th>\n",
       "      <td>‘Āhuimanu</td>\n",
       "      <td>21.44</td>\n",
       "      <td>-157.84</td>\n",
       "      <td>87.80</td>\n",
       "      <td>66</td>\n",
       "      <td>20</td>\n",
       "      <td>12.75</td>\n",
       "      <td>US</td>\n",
       "      <td>1602466119</td>\n",
       "    </tr>\n",
       "    <tr>\n",
       "      <th>1</th>\n",
       "      <td>Hermanus</td>\n",
       "      <td>-34.42</td>\n",
       "      <td>19.23</td>\n",
       "      <td>53.01</td>\n",
       "      <td>78</td>\n",
       "      <td>57</td>\n",
       "      <td>4.00</td>\n",
       "      <td>ZA</td>\n",
       "      <td>1602465941</td>\n",
       "    </tr>\n",
       "    <tr>\n",
       "      <th>2</th>\n",
       "      <td>Port Alfred</td>\n",
       "      <td>-33.59</td>\n",
       "      <td>26.89</td>\n",
       "      <td>53.78</td>\n",
       "      <td>68</td>\n",
       "      <td>5</td>\n",
       "      <td>7.20</td>\n",
       "      <td>ZA</td>\n",
       "      <td>1602466123</td>\n",
       "    </tr>\n",
       "    <tr>\n",
       "      <th>3</th>\n",
       "      <td>Jamestown</td>\n",
       "      <td>42.10</td>\n",
       "      <td>-79.24</td>\n",
       "      <td>62.01</td>\n",
       "      <td>72</td>\n",
       "      <td>90</td>\n",
       "      <td>6.93</td>\n",
       "      <td>US</td>\n",
       "      <td>1602465971</td>\n",
       "    </tr>\n",
       "    <tr>\n",
       "      <th>4</th>\n",
       "      <td>Saskylakh</td>\n",
       "      <td>71.92</td>\n",
       "      <td>114.08</td>\n",
       "      <td>17.51</td>\n",
       "      <td>95</td>\n",
       "      <td>84</td>\n",
       "      <td>8.14</td>\n",
       "      <td>RU</td>\n",
       "      <td>1602466127</td>\n",
       "    </tr>\n",
       "    <tr>\n",
       "      <th>...</th>\n",
       "      <td>...</td>\n",
       "      <td>...</td>\n",
       "      <td>...</td>\n",
       "      <td>...</td>\n",
       "      <td>...</td>\n",
       "      <td>...</td>\n",
       "      <td>...</td>\n",
       "      <td>...</td>\n",
       "      <td>...</td>\n",
       "    </tr>\n",
       "    <tr>\n",
       "      <th>531</th>\n",
       "      <td>Talnakh</td>\n",
       "      <td>69.49</td>\n",
       "      <td>88.40</td>\n",
       "      <td>24.80</td>\n",
       "      <td>92</td>\n",
       "      <td>40</td>\n",
       "      <td>22.37</td>\n",
       "      <td>RU</td>\n",
       "      <td>1602467237</td>\n",
       "    </tr>\n",
       "    <tr>\n",
       "      <th>532</th>\n",
       "      <td>Roald</td>\n",
       "      <td>62.58</td>\n",
       "      <td>6.13</td>\n",
       "      <td>44.60</td>\n",
       "      <td>93</td>\n",
       "      <td>83</td>\n",
       "      <td>3.36</td>\n",
       "      <td>NO</td>\n",
       "      <td>1602467239</td>\n",
       "    </tr>\n",
       "    <tr>\n",
       "      <th>533</th>\n",
       "      <td>Huaidian</td>\n",
       "      <td>33.43</td>\n",
       "      <td>115.03</td>\n",
       "      <td>66.04</td>\n",
       "      <td>72</td>\n",
       "      <td>97</td>\n",
       "      <td>7.87</td>\n",
       "      <td>CN</td>\n",
       "      <td>1602467241</td>\n",
       "    </tr>\n",
       "    <tr>\n",
       "      <th>534</th>\n",
       "      <td>Claresholm</td>\n",
       "      <td>50.03</td>\n",
       "      <td>-113.59</td>\n",
       "      <td>46.99</td>\n",
       "      <td>45</td>\n",
       "      <td>6</td>\n",
       "      <td>8.05</td>\n",
       "      <td>CA</td>\n",
       "      <td>1602467243</td>\n",
       "    </tr>\n",
       "    <tr>\n",
       "      <th>535</th>\n",
       "      <td>Tra Vinh</td>\n",
       "      <td>9.93</td>\n",
       "      <td>106.35</td>\n",
       "      <td>79.20</td>\n",
       "      <td>89</td>\n",
       "      <td>100</td>\n",
       "      <td>7.34</td>\n",
       "      <td>VN</td>\n",
       "      <td>1602467246</td>\n",
       "    </tr>\n",
       "  </tbody>\n",
       "</table>\n",
       "<p>536 rows × 9 columns</p>\n",
       "</div>"
      ],
      "text/plain": [
       "            City    Lat     Lng  Max Temp  Humidity  Cloudiness  Wind Speed  \\\n",
       "0      ‘Āhuimanu  21.44 -157.84     87.80        66          20       12.75   \n",
       "1       Hermanus -34.42   19.23     53.01        78          57        4.00   \n",
       "2    Port Alfred -33.59   26.89     53.78        68           5        7.20   \n",
       "3      Jamestown  42.10  -79.24     62.01        72          90        6.93   \n",
       "4      Saskylakh  71.92  114.08     17.51        95          84        8.14   \n",
       "..           ...    ...     ...       ...       ...         ...         ...   \n",
       "531      Talnakh  69.49   88.40     24.80        92          40       22.37   \n",
       "532        Roald  62.58    6.13     44.60        93          83        3.36   \n",
       "533     Huaidian  33.43  115.03     66.04        72          97        7.87   \n",
       "534   Claresholm  50.03 -113.59     46.99        45           6        8.05   \n",
       "535     Tra Vinh   9.93  106.35     79.20        89         100        7.34   \n",
       "\n",
       "    Country        Date  \n",
       "0        US  1602466119  \n",
       "1        ZA  1602465941  \n",
       "2        ZA  1602466123  \n",
       "3        US  1602465971  \n",
       "4        RU  1602466127  \n",
       "..      ...         ...  \n",
       "531      RU  1602467237  \n",
       "532      NO  1602467239  \n",
       "533      CN  1602467241  \n",
       "534      CA  1602467243  \n",
       "535      VN  1602467246  \n",
       "\n",
       "[536 rows x 9 columns]"
      ]
     },
     "execution_count": 119,
     "metadata": {},
     "output_type": "execute_result"
    }
   ],
   "source": [
    "# Read the csv (to avoid rerunning the API call) and display the Dataframe.\n",
    "weather_data_df = pd.read_csv(\"output_data_CCB/cities.csv\").drop('Unnamed: 0', axis =1)\n",
    "weather_data_df"
   ]
  },
  {
   "cell_type": "code",
   "execution_count": 11,
   "metadata": {},
   "outputs": [
    {
     "data": {
      "text/html": [
       "<div>\n",
       "<style scoped>\n",
       "    .dataframe tbody tr th:only-of-type {\n",
       "        vertical-align: middle;\n",
       "    }\n",
       "\n",
       "    .dataframe tbody tr th {\n",
       "        vertical-align: top;\n",
       "    }\n",
       "\n",
       "    .dataframe thead th {\n",
       "        text-align: right;\n",
       "    }\n",
       "</style>\n",
       "<table border=\"1\" class=\"dataframe\">\n",
       "  <thead>\n",
       "    <tr style=\"text-align: right;\">\n",
       "      <th></th>\n",
       "      <th>Lat</th>\n",
       "      <th>Lng</th>\n",
       "      <th>Max Temp</th>\n",
       "      <th>Humidity</th>\n",
       "      <th>Cloudiness</th>\n",
       "      <th>Wind Speed</th>\n",
       "      <th>Date</th>\n",
       "    </tr>\n",
       "  </thead>\n",
       "  <tbody>\n",
       "    <tr>\n",
       "      <th>count</th>\n",
       "      <td>536.000000</td>\n",
       "      <td>536.000000</td>\n",
       "      <td>536.000000</td>\n",
       "      <td>536.000000</td>\n",
       "      <td>536.000000</td>\n",
       "      <td>536.000000</td>\n",
       "      <td>5.360000e+02</td>\n",
       "    </tr>\n",
       "    <tr>\n",
       "      <th>mean</th>\n",
       "      <td>20.361399</td>\n",
       "      <td>16.357668</td>\n",
       "      <td>60.712892</td>\n",
       "      <td>74.412313</td>\n",
       "      <td>51.059701</td>\n",
       "      <td>7.626549</td>\n",
       "      <td>1.602467e+09</td>\n",
       "    </tr>\n",
       "    <tr>\n",
       "      <th>std</th>\n",
       "      <td>33.597334</td>\n",
       "      <td>90.538368</td>\n",
       "      <td>17.991911</td>\n",
       "      <td>19.374802</td>\n",
       "      <td>40.812177</td>\n",
       "      <td>5.265422</td>\n",
       "      <td>3.752495e+02</td>\n",
       "    </tr>\n",
       "    <tr>\n",
       "      <th>min</th>\n",
       "      <td>-54.800000</td>\n",
       "      <td>-179.170000</td>\n",
       "      <td>11.590000</td>\n",
       "      <td>13.000000</td>\n",
       "      <td>0.000000</td>\n",
       "      <td>0.200000</td>\n",
       "      <td>1.602466e+09</td>\n",
       "    </tr>\n",
       "    <tr>\n",
       "      <th>25%</th>\n",
       "      <td>-8.032500</td>\n",
       "      <td>-64.407500</td>\n",
       "      <td>46.035000</td>\n",
       "      <td>66.000000</td>\n",
       "      <td>1.000000</td>\n",
       "      <td>3.360000</td>\n",
       "      <td>1.602466e+09</td>\n",
       "    </tr>\n",
       "    <tr>\n",
       "      <th>50%</th>\n",
       "      <td>22.915000</td>\n",
       "      <td>20.255000</td>\n",
       "      <td>63.645000</td>\n",
       "      <td>78.500000</td>\n",
       "      <td>48.500000</td>\n",
       "      <td>6.555000</td>\n",
       "      <td>1.602467e+09</td>\n",
       "    </tr>\n",
       "    <tr>\n",
       "      <th>75%</th>\n",
       "      <td>49.132500</td>\n",
       "      <td>94.877500</td>\n",
       "      <td>76.552500</td>\n",
       "      <td>88.000000</td>\n",
       "      <td>93.250000</td>\n",
       "      <td>10.290000</td>\n",
       "      <td>1.602467e+09</td>\n",
       "    </tr>\n",
       "    <tr>\n",
       "      <th>max</th>\n",
       "      <td>78.220000</td>\n",
       "      <td>179.320000</td>\n",
       "      <td>93.200000</td>\n",
       "      <td>100.000000</td>\n",
       "      <td>100.000000</td>\n",
       "      <td>28.900000</td>\n",
       "      <td>1.602467e+09</td>\n",
       "    </tr>\n",
       "  </tbody>\n",
       "</table>\n",
       "</div>"
      ],
      "text/plain": [
       "              Lat         Lng    Max Temp    Humidity  Cloudiness  Wind Speed  \\\n",
       "count  536.000000  536.000000  536.000000  536.000000  536.000000  536.000000   \n",
       "mean    20.361399   16.357668   60.712892   74.412313   51.059701    7.626549   \n",
       "std     33.597334   90.538368   17.991911   19.374802   40.812177    5.265422   \n",
       "min    -54.800000 -179.170000   11.590000   13.000000    0.000000    0.200000   \n",
       "25%     -8.032500  -64.407500   46.035000   66.000000    1.000000    3.360000   \n",
       "50%     22.915000   20.255000   63.645000   78.500000   48.500000    6.555000   \n",
       "75%     49.132500   94.877500   76.552500   88.000000   93.250000   10.290000   \n",
       "max     78.220000  179.320000   93.200000  100.000000  100.000000   28.900000   \n",
       "\n",
       "               Date  \n",
       "count  5.360000e+02  \n",
       "mean   1.602467e+09  \n",
       "std    3.752495e+02  \n",
       "min    1.602466e+09  \n",
       "25%    1.602466e+09  \n",
       "50%    1.602467e+09  \n",
       "75%    1.602467e+09  \n",
       "max    1.602467e+09  "
      ]
     },
     "execution_count": 11,
     "metadata": {},
     "output_type": "execute_result"
    }
   ],
   "source": [
    "weather_data_df.describe()"
   ]
  },
  {
   "cell_type": "markdown",
   "metadata": {},
   "source": [
    "## Inspect the data and remove the cities where the humidity > 100%.\n",
    "----\n",
    "Skip this step if there are no cities that have humidity > 100%. "
   ]
  },
  {
   "cell_type": "code",
   "execution_count": null,
   "metadata": {},
   "outputs": [],
   "source": [
    "#no cities have humidity higher than 100%, so SKIP"
   ]
  },
  {
   "cell_type": "code",
   "execution_count": 12,
   "metadata": {},
   "outputs": [],
   "source": [
    "#  Get the indices of cities that have humidity over 100%.\n"
   ]
  },
  {
   "cell_type": "code",
   "execution_count": 13,
   "metadata": {},
   "outputs": [
    {
     "name": "stdout",
     "output_type": "stream",
     "text": [
      "The lower quartile of humidity is: 66.0\n",
      "The upper quartile of humidity is: 88.0\n",
      "The interquartile range of humidity is: 22.0\n",
      "The the median of humidity is: 78.5 \n",
      "Values below 33.0 could be outliers.\n",
      "Values above 121.0 could be outliers.\n"
     ]
    }
   ],
   "source": [
    "quartiles = weather_data_df['Humidity'].quantile([.25,.5,.75])\n",
    "lowerq = quartiles[0.25]\n",
    "upperq = quartiles[0.75]\n",
    "iqr = upperq-lowerq\n",
    "\n",
    "print(f\"The lower quartile of humidity is: {lowerq}\")\n",
    "print(f\"The upper quartile of humidity is: {upperq}\")\n",
    "print(f\"The interquartile range of humidity is: {iqr}\")\n",
    "print(f\"The the median of humidity is: {quartiles[0.5]} \")\n",
    "\n",
    "lower_bound = lowerq - (1.5*iqr)\n",
    "upper_bound = upperq + (1.5*iqr)\n",
    "print(f\"Values below {lower_bound} could be outliers.\")\n",
    "print(f\"Values above {upper_bound} could be outliers.\")"
   ]
  },
  {
   "cell_type": "code",
   "execution_count": 5,
   "metadata": {},
   "outputs": [
    {
     "data": {
      "text/html": [
       "<div>\n",
       "<style scoped>\n",
       "    .dataframe tbody tr th:only-of-type {\n",
       "        vertical-align: middle;\n",
       "    }\n",
       "\n",
       "    .dataframe tbody tr th {\n",
       "        vertical-align: top;\n",
       "    }\n",
       "\n",
       "    .dataframe thead th {\n",
       "        text-align: right;\n",
       "    }\n",
       "</style>\n",
       "<table border=\"1\" class=\"dataframe\">\n",
       "  <thead>\n",
       "    <tr style=\"text-align: right;\">\n",
       "      <th></th>\n",
       "      <th>index</th>\n",
       "      <th>Unnamed: 0</th>\n",
       "      <th>City</th>\n",
       "      <th>Lat</th>\n",
       "      <th>Lng</th>\n",
       "      <th>Max Temp</th>\n",
       "      <th>Humidity</th>\n",
       "      <th>Cloudiness</th>\n",
       "      <th>Wind Speed</th>\n",
       "      <th>Country</th>\n",
       "      <th>Date</th>\n",
       "    </tr>\n",
       "  </thead>\n",
       "  <tbody>\n",
       "    <tr>\n",
       "      <th>0</th>\n",
       "      <td>0</td>\n",
       "      <td>0</td>\n",
       "      <td>‘Āhuimanu</td>\n",
       "      <td>21.44</td>\n",
       "      <td>-157.84</td>\n",
       "      <td>87.80</td>\n",
       "      <td>66</td>\n",
       "      <td>20</td>\n",
       "      <td>12.75</td>\n",
       "      <td>US</td>\n",
       "      <td>1602466119</td>\n",
       "    </tr>\n",
       "    <tr>\n",
       "      <th>1</th>\n",
       "      <td>1</td>\n",
       "      <td>1</td>\n",
       "      <td>Hermanus</td>\n",
       "      <td>-34.42</td>\n",
       "      <td>19.23</td>\n",
       "      <td>53.01</td>\n",
       "      <td>78</td>\n",
       "      <td>57</td>\n",
       "      <td>4.00</td>\n",
       "      <td>ZA</td>\n",
       "      <td>1602465941</td>\n",
       "    </tr>\n",
       "    <tr>\n",
       "      <th>2</th>\n",
       "      <td>2</td>\n",
       "      <td>2</td>\n",
       "      <td>Port Alfred</td>\n",
       "      <td>-33.59</td>\n",
       "      <td>26.89</td>\n",
       "      <td>53.78</td>\n",
       "      <td>68</td>\n",
       "      <td>5</td>\n",
       "      <td>7.20</td>\n",
       "      <td>ZA</td>\n",
       "      <td>1602466123</td>\n",
       "    </tr>\n",
       "    <tr>\n",
       "      <th>3</th>\n",
       "      <td>3</td>\n",
       "      <td>3</td>\n",
       "      <td>Jamestown</td>\n",
       "      <td>42.10</td>\n",
       "      <td>-79.24</td>\n",
       "      <td>62.01</td>\n",
       "      <td>72</td>\n",
       "      <td>90</td>\n",
       "      <td>6.93</td>\n",
       "      <td>US</td>\n",
       "      <td>1602465971</td>\n",
       "    </tr>\n",
       "    <tr>\n",
       "      <th>4</th>\n",
       "      <td>4</td>\n",
       "      <td>4</td>\n",
       "      <td>Saskylakh</td>\n",
       "      <td>71.92</td>\n",
       "      <td>114.08</td>\n",
       "      <td>17.51</td>\n",
       "      <td>95</td>\n",
       "      <td>84</td>\n",
       "      <td>8.14</td>\n",
       "      <td>RU</td>\n",
       "      <td>1602466127</td>\n",
       "    </tr>\n",
       "    <tr>\n",
       "      <th>...</th>\n",
       "      <td>...</td>\n",
       "      <td>...</td>\n",
       "      <td>...</td>\n",
       "      <td>...</td>\n",
       "      <td>...</td>\n",
       "      <td>...</td>\n",
       "      <td>...</td>\n",
       "      <td>...</td>\n",
       "      <td>...</td>\n",
       "      <td>...</td>\n",
       "      <td>...</td>\n",
       "    </tr>\n",
       "    <tr>\n",
       "      <th>531</th>\n",
       "      <td>531</td>\n",
       "      <td>531</td>\n",
       "      <td>Talnakh</td>\n",
       "      <td>69.49</td>\n",
       "      <td>88.40</td>\n",
       "      <td>24.80</td>\n",
       "      <td>92</td>\n",
       "      <td>40</td>\n",
       "      <td>22.37</td>\n",
       "      <td>RU</td>\n",
       "      <td>1602467237</td>\n",
       "    </tr>\n",
       "    <tr>\n",
       "      <th>532</th>\n",
       "      <td>532</td>\n",
       "      <td>532</td>\n",
       "      <td>Roald</td>\n",
       "      <td>62.58</td>\n",
       "      <td>6.13</td>\n",
       "      <td>44.60</td>\n",
       "      <td>93</td>\n",
       "      <td>83</td>\n",
       "      <td>3.36</td>\n",
       "      <td>NO</td>\n",
       "      <td>1602467239</td>\n",
       "    </tr>\n",
       "    <tr>\n",
       "      <th>533</th>\n",
       "      <td>533</td>\n",
       "      <td>533</td>\n",
       "      <td>Huaidian</td>\n",
       "      <td>33.43</td>\n",
       "      <td>115.03</td>\n",
       "      <td>66.04</td>\n",
       "      <td>72</td>\n",
       "      <td>97</td>\n",
       "      <td>7.87</td>\n",
       "      <td>CN</td>\n",
       "      <td>1602467241</td>\n",
       "    </tr>\n",
       "    <tr>\n",
       "      <th>534</th>\n",
       "      <td>534</td>\n",
       "      <td>534</td>\n",
       "      <td>Claresholm</td>\n",
       "      <td>50.03</td>\n",
       "      <td>-113.59</td>\n",
       "      <td>46.99</td>\n",
       "      <td>45</td>\n",
       "      <td>6</td>\n",
       "      <td>8.05</td>\n",
       "      <td>CA</td>\n",
       "      <td>1602467243</td>\n",
       "    </tr>\n",
       "    <tr>\n",
       "      <th>535</th>\n",
       "      <td>535</td>\n",
       "      <td>535</td>\n",
       "      <td>Tra Vinh</td>\n",
       "      <td>9.93</td>\n",
       "      <td>106.35</td>\n",
       "      <td>79.20</td>\n",
       "      <td>89</td>\n",
       "      <td>100</td>\n",
       "      <td>7.34</td>\n",
       "      <td>VN</td>\n",
       "      <td>1602467246</td>\n",
       "    </tr>\n",
       "  </tbody>\n",
       "</table>\n",
       "<p>510 rows × 11 columns</p>\n",
       "</div>"
      ],
      "text/plain": [
       "     index  Unnamed: 0         City    Lat     Lng  Max Temp  Humidity  \\\n",
       "0        0           0    ‘Āhuimanu  21.44 -157.84     87.80        66   \n",
       "1        1           1     Hermanus -34.42   19.23     53.01        78   \n",
       "2        2           2  Port Alfred -33.59   26.89     53.78        68   \n",
       "3        3           3    Jamestown  42.10  -79.24     62.01        72   \n",
       "4        4           4    Saskylakh  71.92  114.08     17.51        95   \n",
       "..     ...         ...          ...    ...     ...       ...       ...   \n",
       "531    531         531      Talnakh  69.49   88.40     24.80        92   \n",
       "532    532         532        Roald  62.58    6.13     44.60        93   \n",
       "533    533         533     Huaidian  33.43  115.03     66.04        72   \n",
       "534    534         534   Claresholm  50.03 -113.59     46.99        45   \n",
       "535    535         535     Tra Vinh   9.93  106.35     79.20        89   \n",
       "\n",
       "     Cloudiness  Wind Speed Country        Date  \n",
       "0            20       12.75      US  1602466119  \n",
       "1            57        4.00      ZA  1602465941  \n",
       "2             5        7.20      ZA  1602466123  \n",
       "3            90        6.93      US  1602465971  \n",
       "4            84        8.14      RU  1602466127  \n",
       "..          ...         ...     ...         ...  \n",
       "531          40       22.37      RU  1602467237  \n",
       "532          83        3.36      NO  1602467239  \n",
       "533          97        7.87      CN  1602467241  \n",
       "534           6        8.05      CA  1602467243  \n",
       "535         100        7.34      VN  1602467246  \n",
       "\n",
       "[510 rows x 11 columns]"
      ]
     },
     "execution_count": 5,
     "metadata": {},
     "output_type": "execute_result"
    }
   ],
   "source": [
    "# Make a new DataFrame equal to the city data to drop all humidity outliers by index.\n",
    "# Passing \"inplace=False\" will make a copy of the city_data DataFrame, which we call \"clean_city_data\".\n",
    "clean_city_data = weather_data_df.drop(weather_data_df[weather_data_df['Humidity'] < 33].index, inplace = False)\n",
    "clean_city_data"
   ]
  },
  {
   "cell_type": "code",
   "execution_count": null,
   "metadata": {},
   "outputs": [],
   "source": [
    "\n"
   ]
  },
  {
   "cell_type": "markdown",
   "metadata": {},
   "source": [
    "## Plotting the Data\n",
    "* Use proper labeling of the plots using plot titles (including date of analysis) and axes labels.\n",
    "* Save the plotted figures as .pngs."
   ]
  },
  {
   "cell_type": "markdown",
   "metadata": {},
   "source": [
    "## Latitude vs. Temperature Plot"
   ]
  },
  {
   "cell_type": "code",
   "execution_count": 6,
   "metadata": {
    "scrolled": true
   },
   "outputs": [
    {
     "name": "stdout",
     "output_type": "stream",
     "text": [
      "This matplotlib scatter plot is analyzing the max temperature on 10/11/2020 relative to the latitudes of the cities within the dataset. Higher temperatures are observed in cities closer to the equator (lat = 0).\n"
     ]
    },
    {
     "data": {
      "image/png": "[encoded data removed]",
      "text/plain": [
       "<Figure size 432x288 with 1 Axes>"
      ]
     },
     "metadata": {
      "needs_background": "light"
     },
     "output_type": "display_data"
    }
   ],
   "source": [
    "plt.scatter(clean_city_data[\"Lat\"], clean_city_data[\"Max Temp\"], marker=\"o\", facecolors=\"steelblue\", edgecolors=\"black\")\n",
    "\n",
    "plt.xlabel('Latitude')\n",
    "plt.ylabel('Max Temperature (F)')\n",
    "plt.title('City Latitude vs. Max Tempterature (10/11/20)')\n",
    "plt.grid(color='lightgrey', linestyle='-', linewidth=1, alpha = 0.8)\n",
    "\n",
    "print('This matplotlib scatter plot is analyzing the max temperature on 10/11/2020 relative to the latitudes of the cities within the dataset. Higher temperatures are observed in cities closer to the equator (lat = 0).')\n",
    "plt.savefig('output_data_CCB/Latitude_vs_Max-Temp_10-11-2020.png')\n",
    "plt.show()"
   ]
  },
  {
   "cell_type": "markdown",
   "metadata": {},
   "source": [
    "## Latitude vs. Humidity Plot"
   ]
  },
  {
   "cell_type": "code",
   "execution_count": 7,
   "metadata": {},
   "outputs": [
    {
     "name": "stdout",
     "output_type": "stream",
     "text": [
      "This matplotlib scatter plot is analyzing the humidity on 10/11/2020 relative to the latitudes of the cities within the dataset.\n"
     ]
    },
    {
     "data": {
      "image/png": "[encoded data removed]",
      "text/plain": [
       "<Figure size 432x288 with 1 Axes>"
      ]
     },
     "metadata": {
      "needs_background": "light"
     },
     "output_type": "display_data"
    }
   ],
   "source": [
    "plt.scatter(clean_city_data[\"Lat\"], clean_city_data[\"Humidity\"], marker=\"o\", facecolors=\"steelblue\", edgecolors=\"black\")\n",
    "\n",
    "plt.xlabel('Latitude')\n",
    "plt.ylabel('Humidity (%)')\n",
    "plt.title('City Latitude vs. Humidity (10/11/20)')\n",
    "plt.grid(color='lightgrey', linestyle='-', linewidth=1, alpha = 0.8)\n",
    "\n",
    "print('This matplotlib scatter plot is analyzing the humidity on 10/11/2020 relative to the latitudes of the cities within the dataset.')\n",
    "plt.savefig('output_data_CCB/Latitude_vs_Humidity_10-11-2020.png')\n",
    "plt.show()"
   ]
  },
  {
   "cell_type": "markdown",
   "metadata": {},
   "source": [
    "## Latitude vs. Cloudiness Plot"
   ]
  },
  {
   "cell_type": "code",
   "execution_count": 8,
   "metadata": {},
   "outputs": [
    {
     "name": "stdout",
     "output_type": "stream",
     "text": [
      "This matplotlib scatter plot is analyzing the cloudiness on 10/11/2020 relative to the latitudes of the cities within the dataset.\n"
     ]
    },
    {
     "data": {
      "image/png": "[encoded data removed]",
      "text/plain": [
       "<Figure size 432x288 with 1 Axes>"
      ]
     },
     "metadata": {
      "needs_background": "light"
     },
     "output_type": "display_data"
    }
   ],
   "source": [
    "plt.scatter(clean_city_data[\"Lat\"], clean_city_data[\"Cloudiness\"], marker=\"o\", facecolors=\"steelblue\", edgecolors=\"black\")\n",
    "\n",
    "plt.xlabel('Latitude')\n",
    "plt.ylabel('Cloudiness (%)')\n",
    "plt.title('City Latitude vs. Cloudiness (10/11/20)')\n",
    "plt.grid(color='lightgrey', linestyle='-', linewidth=1, alpha = 0.8)\n",
    "\n",
    "print('This matplotlib scatter plot is analyzing the cloudiness on 10/11/2020 relative to the latitudes of the cities within the dataset.')\n",
    "plt.savefig('output_data_CCB/Latitude_vs_Cloudiness_10-11-2020.png')\n",
    "plt.show()"
   ]
  },
  {
   "cell_type": "markdown",
   "metadata": {},
   "source": [
    "## Latitude vs. Wind Speed Plot"
   ]
  },
  {
   "cell_type": "code",
   "execution_count": 9,
   "metadata": {},
   "outputs": [
    {
     "name": "stdout",
     "output_type": "stream",
     "text": [
      "This matplotlib scatter plot is analyzing the wind speed on 10/11/2020 relative to the latitudes of the cities within the dataset.\n"
     ]
    },
    {
     "data": {
      "image/png": "[encoded data removed]",
      "text/plain": [
       "<Figure size 432x288 with 1 Axes>"
      ]
     },
     "metadata": {
      "needs_background": "light"
     },
     "output_type": "display_data"
    }
   ],
   "source": [
    "plt.scatter(clean_city_data[\"Lat\"], clean_city_data[\"Wind Speed\"], marker=\"o\", facecolors=\"steelblue\", edgecolors=\"black\")\n",
    "\n",
    "plt.xlabel('Latitude')\n",
    "plt.ylabel('Wind Speed (mph)')\n",
    "plt.title('City Latitude vs. Windspeed (10/11/20)')\n",
    "plt.grid(color='lightgrey', linestyle='-', linewidth=1, alpha = 0.8)\n",
    "\n",
    "print('This matplotlib scatter plot is analyzing the wind speed on 10/11/2020 relative to the latitudes of the cities within the dataset.')\n",
    "plt.savefig('output_data_CCB/Latitude_vs_Wind-Speed_10-11-2020.png')\n",
    "plt.show()"
   ]
  },
  {
   "cell_type": "markdown",
   "metadata": {},
   "source": [
    "## Linear Regression"
   ]
  },
  {
   "cell_type": "code",
   "execution_count": 87,
   "metadata": {},
   "outputs": [],
   "source": [
    "#defining a function to generate linear regression models using just the variables\n",
    "\n",
    "def lin_reg(x, y, xytext):\n",
    "    slope, b_int, r, p, std_err = linregress(x,y)\n",
    "    line_eq = (f'y= {round(slope,2)}x + {round(b_int,2)}') #y = mx + b\n",
    "    \n",
    "    plt.scatter(x , y, marker='o')\n",
    "        \n",
    "    fit = slope * x + b_int\n",
    "    plt.plot(x, fit, color='r')\n",
    "    plt.annotate(line_eq, xytext, color='r', fontsize=15)\n",
    "\n",
    "    print(f'The r-value is: {round(r, 5)}')\n",
    "    \n",
    "    plt.savefig(f'output_data_CCB/Linear_Regression/{title}.png')\n",
    "    \n",
    "    plt.show()\n",
    "\n",
    "northern_hemisphere = clean_city_data.loc[clean_city_data[\"Lat\"] >= 0]\n",
    "southern_hemisphere = clean_city_data.loc[clean_city_data[\"Lat\"] < 0]"
   ]
  },
  {
   "cell_type": "markdown",
   "metadata": {},
   "source": [
    "####  Northern Hemisphere - Max Temp vs. Latitude Linear Regression"
   ]
  },
  {
   "cell_type": "code",
   "execution_count": 89,
   "metadata": {},
   "outputs": [
    {
     "name": "stdout",
     "output_type": "stream",
     "text": [
      "The r-value is: -0.87236\n"
     ]
    },
    {
     "data": {
      "image/png": "[encoded data removed]",
      "text/plain": [
       "<Figure size 432x288 with 1 Axes>"
      ]
     },
     "metadata": {
      "needs_background": "light"
     },
     "output_type": "display_data"
    }
   ],
   "source": [
    "x = northern_hemisphere['Lat']\n",
    "y = northern_hemisphere['Max Temp']\n",
    "\n",
    "plt.xlabel('Latitude')\n",
    "plt.ylabel('Max Temp')\n",
    "title = ('Northern Hemisphere - Max Temp vs. Latitude Linear Regression') \n",
    "plt.title(title)\n",
    "\n",
    "lin_reg(x, y, (0,10))\n"
   ]
  },
  {
   "cell_type": "markdown",
   "metadata": {},
   "source": [
    "####  Southern Hemisphere - Max Temp vs. Latitude Linear Regression"
   ]
  },
  {
   "cell_type": "code",
   "execution_count": 110,
   "metadata": {},
   "outputs": [
    {
     "name": "stdout",
     "output_type": "stream",
     "text": [
      "The r-value is: 0.67577\n"
     ]
    },
    {
     "data": {
      "image/png": "[encoded data removed]",
      "text/plain": [
       "<Figure size 432x288 with 1 Axes>"
      ]
     },
     "metadata": {
      "needs_background": "light"
     },
     "output_type": "display_data"
    },
    {
     "name": "stdout",
     "output_type": "stream",
     "text": [
      "This set of matplotlib scatter plots are analyzing the max temperature (F) on 10/11/2020 relative to the latitudes of the cities within the northern hemisphere and the southern hemisphere. The nothern hemisphere cities have a strong negative correlation with temperatures decreasing the farther north from the equator. The positive correlation for the cities in the southern hemisphere indicate the temperatures also increase closer to the equator but it is not as cool at the southern most city relative to the nothern. Outliers were removed and the fewer number of data points in the southern hemisphere, may be skewing the results.\n"
     ]
    }
   ],
   "source": [
    "x = southern_hemisphere['Lat']\n",
    "y = southern_hemisphere['Max Temp']\n",
    "\n",
    "plt.xlabel('Latitude')\n",
    "plt.ylabel('Max Temp')\n",
    "title = ('Southern Hemisphere - Max Temp vs. Latitude Linear Regression') \n",
    "plt.title(title)\n",
    "\n",
    "lin_reg(x, y, (-55, 85))\n",
    "print('This set of matplotlib scatter plots are analyzing the max temperature (F) on 10/11/2020 relative to the latitudes of the cities within the northern hemisphere and the southern hemisphere. The nothern hemisphere cities have a strong negative correlation with temperatures decreasing the farther north from the equator. The positive correlation for the cities in the southern hemisphere indicate the temperatures also increase closer to the equator but it is not as cool at the southern most city relative to the nothern. Outliers were removed and the fewer number of data points in the southern hemisphere, may be skewing the results.')"
   ]
  },
  {
   "cell_type": "markdown",
   "metadata": {},
   "source": [
    "####  Northern Hemisphere - Humidity (%) vs. Latitude Linear Regression"
   ]
  },
  {
   "cell_type": "code",
   "execution_count": 94,
   "metadata": {},
   "outputs": [
    {
     "name": "stdout",
     "output_type": "stream",
     "text": [
      "The r-value is: 0.20012\n"
     ]
    },
    {
     "data": {
      "image/png": "[encoded data removed]",
      "text/plain": [
       "<Figure size 432x288 with 1 Axes>"
      ]
     },
     "metadata": {
      "needs_background": "light"
     },
     "output_type": "display_data"
    }
   ],
   "source": [
    "x = northern_hemisphere['Lat']\n",
    "y = northern_hemisphere['Humidity']\n",
    "\n",
    "plt.xlabel('Latitude')\n",
    "plt.ylabel('Humidity')\n",
    "title = ('Northern Hemisphere - Humidity vs. Latitude Linear Regression') \n",
    "plt.title(title)\n",
    "\n",
    "lin_reg(x, y, (45, 35))"
   ]
  },
  {
   "cell_type": "markdown",
   "metadata": {},
   "source": [
    "####  Southern Hemisphere - Humidity (%) vs. Latitude Linear Regression"
   ]
  },
  {
   "cell_type": "code",
   "execution_count": 115,
   "metadata": {},
   "outputs": [
    {
     "name": "stdout",
     "output_type": "stream",
     "text": [
      "The r-value is: 0.22686\n"
     ]
    },
    {
     "data": {
      "image/png": "[encoded data removed]",
      "text/plain": [
       "<Figure size 432x288 with 1 Axes>"
      ]
     },
     "metadata": {
      "needs_background": "light"
     },
     "output_type": "display_data"
    },
    {
     "name": "stdout",
     "output_type": "stream",
     "text": [
      "This set of matplotlib scatter plots are analyzing the humidity on 10/11/2020 relative to the latitudes of the cities within the northern hemisphere and the southern hemisphere. Humidity showed a slight positive to no correlation along increasing latitudes in both hemispheres, although most of the cities had a humidity level greater than 70 across the dataset.\n"
     ]
    }
   ],
   "source": [
    "x = southern_hemisphere['Lat']\n",
    "y = southern_hemisphere['Humidity']\n",
    "\n",
    "plt.xlabel('Latitude')\n",
    "plt.ylabel('Humidity')\n",
    "title = ('Southern Hemisphere - Humidity vs. Latitude Linear Regression') \n",
    "plt.title(title)\n",
    "\n",
    "lin_reg(x, y, (-55, 35))\n",
    "print('This set of matplotlib scatter plots are analyzing the humidity on 10/11/2020 relative to the latitudes of the cities within the northern hemisphere and the southern hemisphere. Humidity showed a slight positive to no correlation along increasing latitudes in both hemispheres, although most of the cities had a humidity level greater than 70 across the dataset.')"
   ]
  },
  {
   "cell_type": "markdown",
   "metadata": {},
   "source": [
    "####  Northern Hemisphere - Cloudiness (%) vs. Latitude Linear Regression"
   ]
  },
  {
   "cell_type": "code",
   "execution_count": 116,
   "metadata": {},
   "outputs": [
    {
     "name": "stdout",
     "output_type": "stream",
     "text": [
      "The r-value is: 0.26916\n"
     ]
    },
    {
     "data": {
      "image/png": "[encoded data removed]",
      "text/plain": [
       "<Figure size 432x288 with 1 Axes>"
      ]
     },
     "metadata": {
      "needs_background": "light"
     },
     "output_type": "display_data"
    }
   ],
   "source": [
    "x = northern_hemisphere['Lat']\n",
    "y = northern_hemisphere['Cloudiness']\n",
    "\n",
    "plt.xlabel('Latitude')\n",
    "plt.ylabel('Cloudiness')\n",
    "title = ('Northern Hemisphere - Cloudiness vs. Latitude Linear Regression') \n",
    "plt.title(title)\n",
    "\n",
    "lin_reg(x, y, (10, 60))"
   ]
  },
  {
   "cell_type": "markdown",
   "metadata": {},
   "source": [
    "####  Southern Hemisphere - Cloudiness (%) vs. Latitude Linear Regression"
   ]
  },
  {
   "cell_type": "code",
   "execution_count": 117,
   "metadata": {},
   "outputs": [
    {
     "name": "stdout",
     "output_type": "stream",
     "text": [
      "The r-value is: 0.1269\n"
     ]
    },
    {
     "data": {
      "image/png": "[encoded data removed]",
      "text/plain": [
       "<Figure size 432x288 with 1 Axes>"
      ]
     },
     "metadata": {
      "needs_background": "light"
     },
     "output_type": "display_data"
    },
    {
     "name": "stdout",
     "output_type": "stream",
     "text": [
      "This set of matplotlib scatter plots are analyzing the cloudiness on 10/11/2020 relative to the latitudes of the cities within the northern hemisphere and the southern hemisphere. Similar to humidity, cloudiness showed a slight positive to no correlation along increasing latitudes in both hemispheres.\n"
     ]
    }
   ],
   "source": [
    "x = southern_hemisphere['Lat']\n",
    "y = southern_hemisphere['Cloudiness']\n",
    "\n",
    "plt.xlabel('Latitude')\n",
    "plt.ylabel('Cloudiness')\n",
    "title = ('Southern Hemisphere - Cloudiness vs. Latitude Linear Regression') \n",
    "plt.title(title)\n",
    "\n",
    "lin_reg(x, y, (-50, 60))\n",
    "print('This set of matplotlib scatter plots are analyzing the cloudiness on 10/11/2020 relative to the latitudes of the cities within the northern hemisphere and the southern hemisphere. Similar to humidity, cloudiness showed a slight positive to no correlation along increasing latitudes in both hemispheres.')"
   ]
  },
  {
   "cell_type": "markdown",
   "metadata": {},
   "source": [
    "####  Northern Hemisphere - Wind Speed (mph) vs. Latitude Linear Regression"
   ]
  },
  {
   "cell_type": "code",
   "execution_count": 107,
   "metadata": {},
   "outputs": [
    {
     "name": "stdout",
     "output_type": "stream",
     "text": [
      "The r-value is: 0.13689\n"
     ]
    },
    {
     "data": {
      "image/png": "[encoded data removed]",
      "text/plain": [
       "<Figure size 432x288 with 1 Axes>"
      ]
     },
     "metadata": {
      "needs_background": "light"
     },
     "output_type": "display_data"
    }
   ],
   "source": [
    "x = northern_hemisphere['Lat']\n",
    "y = northern_hemisphere['Wind Speed']\n",
    "\n",
    "\n",
    "plt.xlabel('Latitude')\n",
    "plt.ylabel('Wind Speed (mph)')\n",
    "title = ('Northern Hemisphere - Wind Speed (mph) vs. Latitude Linear Regression') \n",
    "plt.title(title)\n",
    "\n",
    "lin_reg(x, y, (10, 25))"
   ]
  },
  {
   "cell_type": "markdown",
   "metadata": {},
   "source": [
    "####  Southern Hemisphere - Wind Speed (mph) vs. Latitude Linear Regression"
   ]
  },
  {
   "cell_type": "code",
   "execution_count": 118,
   "metadata": {},
   "outputs": [
    {
     "name": "stdout",
     "output_type": "stream",
     "text": [
      "The r-value is: -0.15525\n"
     ]
    },
    {
     "data": {
      "image/png": "[encoded data removed]",
      "text/plain": [
       "<Figure size 432x288 with 1 Axes>"
      ]
     },
     "metadata": {
      "needs_background": "light"
     },
     "output_type": "display_data"
    },
    {
     "name": "stdout",
     "output_type": "stream",
     "text": [
      "This set of matplotlib scatter plots are analyzing the wind speed on 10/11/2020 relative to the latitudes of the cities within the northern hemisphere and the southern hemisphere. Wind speed showed a slight positive to no correlation in the direction of both poles. Most of the cities had a wind speed less than 5mph across the dataset.\n"
     ]
    }
   ],
   "source": [
    "x = southern_hemisphere['Lat']\n",
    "y = southern_hemisphere['Wind Speed']\n",
    "\n",
    "plt.xlabel('Latitude')\n",
    "plt.ylabel('Wind Speed (mph)')\n",
    "title = ('Southern Hemisphere - Wind Speed (mph) vs. Latitude Linear Regression') \n",
    "plt.title(title)\n",
    "\n",
    "lin_reg(x, y, (-53, 23))\n",
    "print('This set of matplotlib scatter plots are analyzing the wind speed on 10/11/2020 relative to the latitudes of the cities within the northern hemisphere and the southern hemisphere. Wind speed showed a slight positive to no correlation in the direction of both poles. Most of the cities had a wind speed less than 5mph across the dataset.')"
   ]
  },
  {
   "cell_type": "code",
   "execution_count": null,
   "metadata": {},
   "outputs": [],
   "source": []
  }
 ],
 "metadata": {
  "anaconda-cloud": {},
  "kernel_info": {
   "name": "python3"
  },
  "kernelspec": {
   "display_name": "Python [conda env:PythonData] *",
   "language": "python",
   "name": "conda-env-PythonData-py"
  },
  "language_info": {
   "codemirror_mode": {
    "name": "ipython",
    "version": 3
   },
   "file_extension": ".py",
   "mimetype": "text/x-python",
   "name": "python",
   "nbconvert_exporter": "python",
   "pygments_lexer": "ipython3",
   "version": "3.6.10"
  },
  "latex_envs": {
   "LaTeX_envs_menu_present": true,
   "autoclose": false,
   "autocomplete": true,
   "bibliofile": "biblio.bib",
   "cite_by": "apalike",
   "current_citInitial": 1,
   "eqLabelWithNumbers": true,
   "eqNumInitial": 1,
   "hotkeys": {
    "equation": "Ctrl-E",
    "itemize": "Ctrl-I"
   },
   "labels_anchors": false,
   "latex_user_defs": false,
   "report_style_numbering": false,
   "user_envs_cfg": false
  },
  "nteract": {
   "version": "0.12.3"
  }
 },
 "nbformat": 4,
 "nbformat_minor": 2
}
